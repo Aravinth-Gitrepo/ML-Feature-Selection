{
 "cells": [
  {
   "cell_type": "code",
   "execution_count": 2,
   "id": "0ca07211-a53d-489b-a021-0289c97be035",
   "metadata": {},
   "outputs": [],
   "source": [
    "import pandas as pd\n",
    "from sklearn.preprocessing import StandardScaler\n",
    "from sklearn.model_selection import train_test_split\n",
    "from sklearn.ensemble import RandomForestClassifier\n",
    "from sklearn.metrics import confusion_matrix, accuracy_score, classification_report\n",
    "from sklearn.feature_selection import SelectFromModel\n",
    "import matplotlib.pyplot as plt"
   ]
  },
  {
   "cell_type": "code",
   "execution_count": 4,
   "id": "7453e72c-ad1c-4b8f-99ac-7baf785e4a25",
   "metadata": {},
   "outputs": [],
   "source": [
    "\n",
    "# Loading data\n",
    "data = pd.read_csv('prep.csv')\n",
    "data = pd.get_dummies(data, drop_first=True)\n",
    "\n",
    "indep = data.drop('classification_yes', axis=1)\n",
    "dep = data['classification_yes']\n",
    "\n",
    "x_train, x_test, y_train, y_test = train_test_split(indep,dep,test_size=0.25,random_state=0)\n",
    "\n"
   ]
  },
  {
   "cell_type": "code",
   "execution_count": 5,
   "id": "60a2a5b1-b99b-4a1b-8744-9281df8974ba",
   "metadata": {},
   "outputs": [
    {
     "name": "stdout",
     "output_type": "stream",
     "text": [
      "age 0.007495006307939874\n",
      "bp 0.0026760874838724137\n",
      "al 0.11815946486841616\n",
      "su 0.011186705464663592\n",
      "bgr 0.04502916649618819\n",
      "bu 0.010346970622041575\n",
      "sc 0.20710400716815597\n",
      "sod 0.00799465765075283\n",
      "pot 0.004752462408478686\n",
      "hrmo 0.19302045737538154\n",
      "pcv 0.20659891052868395\n",
      "wc 0.0038893897128755993\n",
      "rc 0.03506506566909514\n",
      "sg_b 0.023985027176419565\n",
      "sg_c 0.021339816084604894\n",
      "sg_d 0.017171025846709553\n",
      "sg_e 0.0\n",
      "rbc_normal 0.0011346041821653832\n",
      "pc_normal 0.0037976900905596646\n",
      "pcc_present 0.0\n",
      "ba_present 0.0\n",
      "htn_yes 0.03398446210223367\n",
      "dm_yes 0.03431657160779614\n",
      "cad_yes 0.0\n",
      "appet_yes 0.0\n",
      "pe_yes 0.010952451152965413\n",
      "ane_yes 0.0\n"
     ]
    }
   ],
   "source": [
    "# Train Random Forest and get feature importances\n",
    "rf = RandomForestClassifier(n_estimators=10, criterion='entropy')\n",
    "rf.fit(x_train, y_train)\n",
    "\n",
    "# Display feature importances\n",
    "importances = rf.feature_importances_\n",
    "for feature, importance in zip(indep, importances):\n",
    "    print(feature, importance)\n",
    "\n",
    "# Feature selection based on importance threshold\n",
    "threshold = 0.05\n",
    "sfm = SelectFromModel(rf, threshold=threshold)\n",
    "sfm.fit(x_train, y_train)\n",
    "\n",
    "# Transform both x_train and x_test to include only selected features\n",
    "x_train_selected = sfm.transform(x_train)\n",
    "x_test_selected = sfm.transform(x_test)\n",
    "\n"
   ]
  },
  {
   "cell_type": "code",
   "execution_count": 7,
   "id": "07d22139-d08f-4659-bee5-5d01b28254ab",
   "metadata": {},
   "outputs": [
    {
     "name": "stdout",
     "output_type": "stream",
     "text": [
      "Selected Features: Index(['al', 'bu', 'hrmo', 'pcv', 'rc'], dtype='object')\n"
     ]
    }
   ],
   "source": [
    "\n",
    "selected_feature_names = indep.columns[sfm.get_support()]\n",
    "print(\"Selected Features:\", selected_feature_names)\n",
    "\n",
    "rf_selected = RandomForestClassifier(n_estimators=10, criterion='entropy')\n",
    "rf_selected.fit(x_train_selected, y_train)\n"
   ]
  },
  {
   "cell_type": "code",
   "execution_count": 8,
   "id": "4640d9d9-9d1c-438a-9579-774ffb7f0e23",
   "metadata": {},
   "outputs": [],
   "source": [
    "# predictions and evaluate\n",
    "y_pred_selected = rf_selected.predict(x_test_selected)\n",
    "cm_selected = confusion_matrix(y_test, y_pred_selected)\n",
    "accuracy_selected = accuracy_score(y_test, y_pred_selected)\n",
    "report_selected = classification_report(y_test, y_pred_selected)"
   ]
  },
  {
   "cell_type": "code",
   "execution_count": 13,
   "id": "e48ca430-e45b-42b9-81fe-4e5f0e977bc7",
   "metadata": {},
   "outputs": [
    {
     "name": "stdout",
     "output_type": "stream",
     "text": [
      "Confusion Matrix (Selected Features):\n",
      " [[35  1]\n",
      " [ 3 61]]\n",
      "Accuracy (Selected Features): 0.96\n",
      "Classification Report (Selected Features):\n",
      "               precision    recall  f1-score   support\n",
      "\n",
      "       False       0.92      0.97      0.95        36\n",
      "        True       0.98      0.95      0.97        64\n",
      "\n",
      "    accuracy                           0.96       100\n",
      "   macro avg       0.95      0.96      0.96       100\n",
      "weighted avg       0.96      0.96      0.96       100\n",
      "\n"
     ]
    }
   ],
   "source": [
    "# Display evaluation metrics\n",
    "print(\"Confusion Matrix (Selected Features):\\n\", cm_selected)\n",
    "print(\"Accuracy (Selected Features):\", accuracy_selected)\n",
    "print(\"Classification Report (Selected Features):\\n\", report_selected)\n"
   ]
  },
  {
   "cell_type": "code",
   "execution_count": 15,
   "id": "203728d6-8d8d-4fe4-881a-70007cbf8713",
   "metadata": {},
   "outputs": [
    {
     "data": {
      "text/html": [
       "<div>\n",
       "<style scoped>\n",
       "    .dataframe tbody tr th:only-of-type {\n",
       "        vertical-align: middle;\n",
       "    }\n",
       "\n",
       "    .dataframe tbody tr th {\n",
       "        vertical-align: top;\n",
       "    }\n",
       "\n",
       "    .dataframe thead th {\n",
       "        text-align: right;\n",
       "    }\n",
       "</style>\n",
       "<table border=\"1\" class=\"dataframe\">\n",
       "  <thead>\n",
       "    <tr style=\"text-align: right;\">\n",
       "      <th></th>\n",
       "      <th>Feature_Names</th>\n",
       "      <th>Importances</th>\n",
       "    </tr>\n",
       "  </thead>\n",
       "  <tbody>\n",
       "    <tr>\n",
       "      <th>2</th>\n",
       "      <td>hrmo</td>\n",
       "      <td>0.405418</td>\n",
       "    </tr>\n",
       "    <tr>\n",
       "      <th>3</th>\n",
       "      <td>pcv</td>\n",
       "      <td>0.264562</td>\n",
       "    </tr>\n",
       "    <tr>\n",
       "      <th>4</th>\n",
       "      <td>rc</td>\n",
       "      <td>0.174139</td>\n",
       "    </tr>\n",
       "    <tr>\n",
       "      <th>1</th>\n",
       "      <td>bu</td>\n",
       "      <td>0.091614</td>\n",
       "    </tr>\n",
       "    <tr>\n",
       "      <th>0</th>\n",
       "      <td>al</td>\n",
       "      <td>0.064266</td>\n",
       "    </tr>\n",
       "  </tbody>\n",
       "</table>\n",
       "</div>"
      ],
      "text/plain": [
       "  Feature_Names  Importances\n",
       "2          hrmo     0.405418\n",
       "3           pcv     0.264562\n",
       "4            rc     0.174139\n",
       "1            bu     0.091614\n",
       "0            al     0.064266"
      ]
     },
     "execution_count": 15,
     "metadata": {},
     "output_type": "execute_result"
    }
   ],
   "source": [
    "# Visualize feature importances for the selected features\n",
    "df = pd.DataFrame({'Feature_Names': selected_feature_names, 'Importances': rf_selected.feature_importances_})\n",
    "df = df.sort_values(by='Importances', ascending=False)\n",
    "\n",
    "df"
   ]
  },
  {
   "cell_type": "code",
   "execution_count": 16,
   "id": "840d96c4-85db-4087-a19d-a9f405cda448",
   "metadata": {},
   "outputs": [
    {
     "data": {
      "image/png": "[encoded data removed]",
      "text/plain": [
       "<Figure size 640x480 with 1 Axes>"
      ]
     },
     "metadata": {},
     "output_type": "display_data"
    }
   ],
   "source": [
    "plt.barh(df['Feature_Names'], df['Importances'])\n",
    "plt.show()"
   ]
  },
  {
   "cell_type": "code",
   "execution_count": null,
   "id": "b1e213a4-402b-4a16-9663-3a5364d4368d",
   "metadata": {},
   "outputs": [],
   "source": []
  }
 ],
 "metadata": {
  "kernelspec": {
   "display_name": "Python 3 (ipykernel)",
   "language": "python",
   "name": "python3"
  },
  "language_info": {
   "codemirror_mode": {
    "name": "ipython",
    "version": 3
   },
   "file_extension": ".py",
   "mimetype": "text/x-python",
   "name": "python",
   "nbconvert_exporter": "python",
   "pygments_lexer": "ipython3",
   "version": "3.10.4"
  }
 },
 "nbformat": 4,
 "nbformat_minor": 5
}
